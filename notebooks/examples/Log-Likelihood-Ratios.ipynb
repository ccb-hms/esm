{
 "cells": [
  {
   "cell_type": "markdown",
   "id": "6fa67053-3f1c-4134-91d3-dbbaf0bc8280",
   "metadata": {},
   "source": [
    "## Getting Started ##\n",
    "### Predicting the Effects of Mutations on Protein Function with ESM-2 ###\n",
    "\n",
    "Mutations of protein sequences can be quite complex and the effects they have on proteins can range from detrimental to function, to neutral and inconsequential, to causing improvement in function. It has been shown that even single point mutations or small numbers of mutations can cause drastic conformational changes, resulting in \"fold-switching\" and changes in the 3D structure of the folded protein. Judging the effects of mutations is difficult, but protein language models like the ESM-2 family of models can provide a lot of information on the effects of mutations on the fold and function of proteins.\n",
    "\n",
    "https://www.biorxiv.org/content/10.1101/2021.07.09.450648v2\n",
    "\n",
    "https://huggingface.co/blog/AmelieSchreiber/mutation-scoring"
   ]
  },
  {
   "cell_type": "code",
   "execution_count": 1,
   "id": "a6139512-2a52-4791-b19d-c96ccfc15a4a",
   "metadata": {},
   "outputs": [
    {
     "data": {
      "text/html": [
       "<style>.container { width:100% !important; }</style>"
      ],
      "text/plain": [
       "<IPython.core.display.HTML object>"
      ]
     },
     "metadata": {},
     "output_type": "display_data"
    },
    {
     "name": "stdout",
     "output_type": "stream",
     "text": [
      "Project module version: 0.0.post1.dev18+g803595c.d20240131\n",
      "PyTorch version:        2.1.2+cu121\n"
     ]
    }
   ],
   "source": [
    "import os\n",
    "import numpy as np\n",
    "import pandas as pd\n",
    "import ipywidgets as widgets\n",
    "\n",
    "from matplotlib import pyplot as plt\n",
    "\n",
    "# Huggingface imports\n",
    "from transformers import AutoTokenizer, EsmForMaskedLM\n",
    "\n",
    "#PyTorch\n",
    "import torch\n",
    "\n",
    "# Appearance of the Notebook\n",
    "from IPython.display import display, HTML\n",
    "display(HTML(\"<style>.container { width:100% !important; }</style>\"))\n",
    "np.set_printoptions(linewidth=110)\n",
    "pd.set_option('display.max_rows', 500)\n",
    "pd.set_option('display.max_columns', 100)\n",
    "pd.set_option('display.width', 1000)\n",
    "\n",
    "# Import this module with autoreload\n",
    "%load_ext autoreload\n",
    "%autoreload 2\n",
    "import esm\n",
    "print(f'Project module version: {esm.__version__}')\n",
    "print(f'PyTorch version:        {torch.__version__}')"
   ]
  },
  {
   "cell_type": "code",
   "execution_count": 2,
   "id": "6622cbee-caa3-4b7c-8a77-4c49e0819d2e",
   "metadata": {},
   "outputs": [],
   "source": [
    "def interactive_heatmap(protein_sequence):\n",
    "    # Define interactive widgets\n",
    "    start_slider = widgets.IntSlider(value=1, min=1, max=len(protein_sequence), step=1, description='Start:')\n",
    "    end_slider = widgets.IntSlider(value=len(protein_sequence), min=1, max=len(protein_sequence), step=1, description='End:')\n",
    "\n",
    "    ui = widgets.HBox([start_slider, end_slider])\n",
    "\n",
    "    def update_heatmap(start, end):\n",
    "        if start <= end:\n",
    "            generate_heatmap(protein_sequence, start, end)\n",
    "\n",
    "    out = widgets.interactive_output(update_heatmap, {'start': start_slider, 'end': end_slider})\n",
    "\n",
    "    # Display the interactive widgets\n",
    "    display(ui, out)\n",
    "\n",
    "def generate_heatmap(protein_sequence, start_pos=1, end_pos=None):\n",
    "    # Load the model and tokenizer\n",
    "    model_name = \"facebook/esm2_t6_8M_UR50D\"\n",
    "    tokenizer = AutoTokenizer.from_pretrained(model_name)\n",
    "    model = EsmForMaskedLM.from_pretrained(model_name)\n",
    "\n",
    "    # Tokenize the input sequence\n",
    "    input_ids = tokenizer.encode(protein_sequence, return_tensors=\"pt\")\n",
    "    sequence_length = input_ids.shape[1] - 2  # Excluding the special tokens\n",
    "\n",
    "    # Adjust end position if not specified\n",
    "    if end_pos is None:\n",
    "        end_pos = sequence_length\n",
    "\n",
    "    # List of amino acids\n",
    "    amino_acids = list(\"ACDEFGHIKLMNPQRSTVWY\")\n",
    "\n",
    "    # Initialize heatmap\n",
    "    heatmap = np.zeros((20, end_pos - start_pos + 1))\n",
    "\n",
    "    # Calculate LLRs for each position and amino acid\n",
    "    for position in range(start_pos, end_pos + 1):\n",
    "        # Mask the target position\n",
    "        masked_input_ids = input_ids.clone()\n",
    "        masked_input_ids[0, position] = tokenizer.mask_token_id\n",
    "        \n",
    "        # Get logits for the masked token\n",
    "        with torch.no_grad():\n",
    "            logits = model(masked_input_ids).logits\n",
    "            \n",
    "        # Calculate log probabilities\n",
    "        probabilities = torch.nn.functional.softmax(logits[0, position], dim=0)\n",
    "        log_probabilities = torch.log(probabilities)\n",
    "        \n",
    "        # Get the log probability of the wild-type residue\n",
    "        wt_residue = input_ids[0, position].item()\n",
    "        log_prob_wt = log_probabilities[wt_residue].item()\n",
    "        \n",
    "        # Calculate LLR for each variant\n",
    "        for i, amino_acid in enumerate(amino_acids):\n",
    "            log_prob_mt = log_probabilities[tokenizer.convert_tokens_to_ids(amino_acid)].item()\n",
    "            heatmap[i, position - start_pos] = log_prob_mt - log_prob_wt\n",
    "\n",
    "    # Visualize the heatmap\n",
    "    plt.figure(figsize=(15, 5))\n",
    "    plt.imshow(heatmap, cmap=\"viridis\", aspect=\"auto\")\n",
    "    plt.xticks(range(end_pos - start_pos + 1), list(protein_sequence[start_pos-1:end_pos]))\n",
    "    plt.yticks(range(20), amino_acids)\n",
    "    plt.xlabel(\"Position in Protein Sequence\")\n",
    "    plt.ylabel(\"Amino Acid Mutations\")\n",
    "    plt.title(\"Predicted Effects of Mutations on Protein Sequence (LLR)\")\n",
    "    plt.colorbar(label=\"Log Likelihood Ratio (LLR)\")\n",
    "    plt.show()"
   ]
  },
  {
   "cell_type": "code",
   "execution_count": 3,
   "id": "a4be8564-c0e4-4cc0-b6c0-424972eae07f",
   "metadata": {},
   "outputs": [
    {
     "data": {
      "application/vnd.jupyter.widget-view+json": {
       "model_id": "b4bf63297e3548c384c8d775653ee543",
       "version_major": 2,
       "version_minor": 0
      },
      "text/plain": [
       "HBox(children=(IntSlider(value=1, description='Start:', max=108, min=1), IntSlider(value=108, description='End…"
      ]
     },
     "metadata": {},
     "output_type": "display_data"
    },
    {
     "data": {
      "application/vnd.jupyter.widget-view+json": {
       "model_id": "88cbb51e74584096be41de7e363af7d6",
       "version_major": 2,
       "version_minor": 0
      },
      "text/plain": [
       "Output()"
      ]
     },
     "metadata": {},
     "output_type": "display_data"
    }
   ],
   "source": [
    "# Example usage:\n",
    "protein_sequence = \"MAPLRKTYVLKLYVAGNTPNSVRALKTLNNILEKEFKGVYALKVIDVLKNPQLAEEDKILATPTLAKVLPPPVRRIIGDLSNREKVLIGLDLLYEEIGDQAEDDLGLE\"\n",
    "interactive_heatmap(protein_sequence)"
   ]
  }
 ],
 "metadata": {
  "kernelspec": {
   "display_name": "Python 3 (ipykernel)",
   "language": "python",
   "name": "python3"
  },
  "language_info": {
   "codemirror_mode": {
    "name": "ipython",
    "version": 3
   },
   "file_extension": ".py",
   "mimetype": "text/x-python",
   "name": "python",
   "nbconvert_exporter": "python",
   "pygments_lexer": "ipython3",
   "version": "3.10.11"
  }
 },
 "nbformat": 4,
 "nbformat_minor": 5
}
